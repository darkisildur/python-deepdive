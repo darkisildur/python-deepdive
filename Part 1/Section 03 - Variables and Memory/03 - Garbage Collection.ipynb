{
 "cells": [
  {
   "cell_type": "markdown",
   "metadata": {
    "collapsed": true
   },
   "source": [
    "## Garbage Collection"
   ]
  },
  {
   "cell_type": "code",
   "execution_count": 15,
   "metadata": {
    "collapsed": true
   },
   "outputs": [],
   "source": [
    "import ctypes\n",
    "import gc"
   ]
  },
  {
   "cell_type": "markdown",
   "metadata": {},
   "source": [
    "We use the same function that we used in the lesson on reference counting to calculate the number of references to a specified object (using its memory address to avoid creating an extra reference)"
   ]
  },
  {
   "cell_type": "code",
   "execution_count": 16,
   "metadata": {
    "collapsed": true
   },
   "outputs": [],
   "source": [
    "def ref_count(address):\n",
    "    return ctypes.c_long.from_address(address).value"
   ]
  },
  {
   "cell_type": "markdown",
   "metadata": {},
   "source": [
    "We create a function that will search the objects in the GC for a specified id and tell us if the object was found or not:"
   ]
  },
  {
   "cell_type": "code",
   "execution_count": 17,
   "metadata": {
    "collapsed": true
   },
   "outputs": [],
   "source": [
    "def object_by_id(object_id):\n",
    "    for obj in gc.get_objects():\n",
    "        if id(obj) == object_id:\n",
    "            return \"Object exists\"\n",
    "    return \"Not found\""
   ]
  },
  {
   "cell_type": "markdown",
   "metadata": {},
   "source": [
    "Next we define two classes that we will use to create a circular reference\n",
    "\n",
    "Class A's constructor will create an instance of class B and pass itself to class B's constructor that will then store that reference in some instance variable."
   ]
  },
  {
   "cell_type": "code",
   "execution_count": 18,
   "metadata": {
    "collapsed": true
   },
   "outputs": [],
   "source": [
    "class A:\n",
    "    def __init__(self):\n",
    "        self.b = B(self)\n",
    "        print('A: self: {0}, b:{1}'.format(hex(id(self)), hex(id(self.b))))"
   ]
  },
  {
   "cell_type": "code",
   "execution_count": 19,
   "metadata": {
    "collapsed": true
   },
   "outputs": [],
   "source": [
    "class B:\n",
    "    def __init__(self, a):\n",
    "        self.a = a\n",
    "        print('B: self: {0}, a:{1}'.format(hex(id(self)), hex(id(self.a))))"
   ]
  },
  {
   "cell_type": "markdown",
   "metadata": {},
   "source": [
    "We turn off the GC so we can see how reference counts are affected when the GC does not run and when it does (by running it manually)."
   ]
  },
  {
   "cell_type": "code",
   "execution_count": 20,
   "metadata": {
    "collapsed": true
   },
   "outputs": [],
   "source": [
    "gc.disable()"
   ]
  },
  {
   "cell_type": "markdown",
   "metadata": {},
   "source": [
    "Now we create an instance of A, which will, in turn, create an instance of B which will store a reference to the calling A instance."
   ]
  },
  {
   "cell_type": "code",
   "execution_count": 21,
   "metadata": {},
   "outputs": [
    {
     "name": "stdout",
     "output_type": "stream",
     "text": [
      "B: self: 0x10a83fa60, a:0x10a83e4a0\n",
      "A: self: 0x10a83e4a0, b:0x10a83fa60\n"
     ]
    }
   ],
   "source": [
    "my_var = A()"
   ]
  },
  {
   "cell_type": "markdown",
   "metadata": {},
   "source": [
    "As we can see A and B's constructors ran, and we also see from the memory addresses that we have a circular reference.\n",
    "\n",
    "In fact `my_var` is also a reference to the same A instance:"
   ]
  },
  {
   "cell_type": "code",
   "execution_count": 22,
   "metadata": {},
   "outputs": [
    {
     "name": "stdout",
     "output_type": "stream",
     "text": [
      "0x10a83e4a0\n"
     ]
    }
   ],
   "source": [
    "print(hex(id(my_var)))"
   ]
  },
  {
   "cell_type": "markdown",
   "metadata": {},
   "source": [
    "Another way to see this:"
   ]
  },
  {
   "cell_type": "code",
   "execution_count": 23,
   "metadata": {},
   "outputs": [
    {
     "name": "stdout",
     "output_type": "stream",
     "text": [
      "a: \t0x10a83e4a0\n",
      "a.b: \t0x10a83fa60\n",
      "b.a: \t0x10a83e4a0\n"
     ]
    }
   ],
   "source": [
    "print('a: \\t{0}'.format(hex(id(my_var))))\n",
    "print('a.b: \\t{0}'.format(hex(id(my_var.b))))\n",
    "print('b.a: \\t{0}'.format(hex(id(my_var.b.a))))"
   ]
  },
  {
   "cell_type": "code",
   "execution_count": 24,
   "metadata": {
    "collapsed": true
   },
   "outputs": [],
   "source": [
    "a_id = id(my_var)\n",
    "b_id = id(my_var.b)"
   ]
  },
  {
   "cell_type": "markdown",
   "metadata": {},
   "source": [
    "We can see how many references we have for `a` and `b`:"
   ]
  },
  {
   "cell_type": "code",
   "execution_count": 25,
   "metadata": {},
   "outputs": [
    {
     "name": "stdout",
     "output_type": "stream",
     "text": [
      "refcount(a) = 2\n",
      "refcount(b) = 1\n",
      "a: Object exists\n",
      "b: Object exists\n"
     ]
    }
   ],
   "source": [
    "print('refcount(a) = {0}'.format(ref_count(a_id)))\n",
    "print('refcount(b) = {0}'.format(ref_count(b_id)))\n",
    "print('a: {0}'.format(object_by_id(a_id)))\n",
    "print('b: {0}'.format(object_by_id(b_id)))"
   ]
  },
  {
   "cell_type": "markdown",
   "metadata": {},
   "source": [
    "As we can see the A instance has two references (one from `my_var`, the other from the instance variable `b` in the B instance)\n",
    "\n",
    "The B instance has one reference (from the A instance variable `a`)"
   ]
  },
  {
   "cell_type": "markdown",
   "metadata": {},
   "source": [
    "Now, let's remove the reference to the A instance that is being held by `my_var`:"
   ]
  },
  {
   "cell_type": "code",
   "execution_count": 26,
   "metadata": {
    "collapsed": true
   },
   "outputs": [],
   "source": [
    "my_var= None"
   ]
  },
  {
   "cell_type": "code",
   "execution_count": 27,
   "metadata": {},
   "outputs": [
    {
     "name": "stdout",
     "output_type": "stream",
     "text": [
      "refcount(a) = 1\n",
      "refcount(b) = 1\n",
      "a: Object exists\n",
      "b: Object exists\n"
     ]
    }
   ],
   "source": [
    "print('refcount(a) = {0}'.format(ref_count(a_id)))\n",
    "print('refcount(b) = {0}'.format(ref_count(b_id)))\n",
    "print('a: {0}'.format(object_by_id(a_id)))\n",
    "print('b: {0}'.format(object_by_id(b_id)))"
   ]
  },
  {
   "cell_type": "markdown",
   "metadata": {},
   "source": [
    "As we can see, the reference counts are now both equal to 1 (a pure circular reference), and reference counting alone did not destroy the A and B instances - they're still around. If no garbage collection is performed this would result in a memory leak."
   ]
  },
  {
   "cell_type": "markdown",
   "metadata": {},
   "source": [
    "Let's run the GC manually and re-check whether the objects still exist:"
   ]
  },
  {
   "cell_type": "code",
   "execution_count": 28,
   "metadata": {},
   "outputs": [
    {
     "name": "stdout",
     "output_type": "stream",
     "text": [
      "refcount(a) = 1\n",
      "refcount(b) = 0\n",
      "a: Not found\n",
      "b: Not found\n"
     ]
    }
   ],
   "source": [
    "gc.collect()\n",
    "print('refcount(a) = {0}'.format(ref_count(a_id)))\n",
    "print('refcount(b) = {0}'.format(ref_count(b_id)))\n",
    "print('a: {0}'.format(object_by_id(a_id)))\n",
    "print('b: {0}'.format(object_by_id(b_id)))"
   ]
  }
 ],
 "metadata": {
  "kernelspec": {
   "display_name": "Python 3.10.6 ('python-deepdive')",
   "language": "python",
   "name": "python3"
  },
  "language_info": {
   "codemirror_mode": {
    "name": "ipython",
    "version": 3
   },
   "file_extension": ".py",
   "mimetype": "text/x-python",
   "name": "python",
   "nbconvert_exporter": "python",
   "pygments_lexer": "ipython3",
   "version": "3.10.6"
  },
  "vscode": {
   "interpreter": {
    "hash": "44801f2890cd767bb58f75c79c0c85f2b032b3b622d1c60883d7b88dc10cf617"
   }
  }
 },
 "nbformat": 4,
 "nbformat_minor": 2
}

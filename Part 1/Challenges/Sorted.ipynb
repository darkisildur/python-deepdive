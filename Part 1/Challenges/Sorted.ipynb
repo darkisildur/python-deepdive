{
 "cells": [
  {
   "cell_type": "markdown",
   "metadata": {},
   "source": [
    "Create a function in Python that accepts two parameters. The first will be a list of numbers. The second parameter will be a string that can be one of the following values: asc, desc, and none.\n",
    "If the second parameter is \"asc,\" then the function should return a list with the numbers in ascending order. If it's \"desc,\" then the list should be in descending order, and if it's \"none,\" it should return the original list unaltered."
   ]
  },
  {
   "cell_type": "code",
   "execution_count": 25,
   "metadata": {},
   "outputs": [],
   "source": [
    "def _sorted(l: list(), order: str()=None):\n",
    "    sorted_l = list()\n",
    "    if l and not order:\n",
    "        return l\n",
    "    elif l and order == 'asc':\n",
    "        sorted_l.insert(0, l[0])\n",
    "        for e in l[1:]:\n",
    "            if e < sorted_l[0]:\n",
    "                sorted_l.insert(0, e)\n",
    "            else:\n",
    "                sorted_l.append(e)\n",
    "        return sorted_l\n",
    "    elif l and order == 'desc':\n",
    "        sorted_l.insert(0, l[0])\n",
    "        for e in l[1:]:\n",
    "            if e > sorted_l[0]:\n",
    "                sorted_l.insert(0, e)\n",
    "            else:\n",
    "                sorted_l.append(e)\n",
    "        return sorted_l\n",
    "    else:\n",
    "        print('No valid arguments were passed')"
   ]
  },
  {
   "cell_type": "code",
   "execution_count": 26,
   "metadata": {},
   "outputs": [
    {
     "data": {
      "text/plain": [
       "[20, 10, 8, 5, 3, 2, 1]"
      ]
     },
     "execution_count": 26,
     "metadata": {},
     "output_type": "execute_result"
    }
   ],
   "source": [
    "_sorted([10, 8, 5, 20, 3,2,1], order='desc')"
   ]
  },
  {
   "cell_type": "code",
   "execution_count": 27,
   "metadata": {},
   "outputs": [
    {
     "data": {
      "text/plain": [
       "[1, 2, 3, 5, 8, 10, 20]"
      ]
     },
     "execution_count": 27,
     "metadata": {},
     "output_type": "execute_result"
    }
   ],
   "source": [
    "_sorted([10, 8, 5, 20, 3,2,1], order='asc')"
   ]
  },
  {
   "cell_type": "code",
   "execution_count": 28,
   "metadata": {},
   "outputs": [
    {
     "name": "stdout",
     "output_type": "stream",
     "text": [
      "No valid arguments were passed\n"
     ]
    }
   ],
   "source": [
    "_sorted([10, 8, 5, 20, 3,2,1], order='test')"
   ]
  },
  {
   "cell_type": "code",
   "execution_count": null,
   "metadata": {},
   "outputs": [],
   "source": []
  }
 ],
 "metadata": {
  "kernelspec": {
   "display_name": "Python 3",
   "language": "python",
   "name": "python3"
  },
  "language_info": {
   "codemirror_mode": {
    "name": "ipython",
    "version": 3
   },
   "file_extension": ".py",
   "mimetype": "text/x-python",
   "name": "python",
   "nbconvert_exporter": "python",
   "pygments_lexer": "ipython3",
   "version": "3.6.6+"
  }
 },
 "nbformat": 4,
 "nbformat_minor": 2
}
